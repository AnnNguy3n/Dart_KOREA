{
 "cells": [
  {
   "cell_type": "code",
   "execution_count": null,
   "metadata": {},
   "outputs": [],
   "source": [
    "import pandas as pd\n",
    "from bs4 import BeautifulSoup\n",
    "import re\n",
    "from tqdm import tqdm\n",
    "\n",
    "df = pd.read_csv(\"/Users/nguyenhuuan/Desktop/Dart_KOREA/Metadata/filtered_2010_2023.csv\")\n",
    "df.shape"
   ]
  },
  {
   "cell_type": "code",
   "execution_count": null,
   "metadata": {},
   "outputs": [],
   "source": [
    "def get_text_menu(report_id):\n",
    "    with open(f\"FirstPage/{report_id}.html\", \"rb\") as f:\n",
    "        soup = BeautifulSoup(f.read(), \"html.parser\")\n",
    "\n",
    "    list_script = soup.find_all(\"script\")\n",
    "    count = 0\n",
    "    text = \"\"\n",
    "    for s in list_script:\n",
    "        if \"function makeToc()\" in s.text:\n",
    "            count += 1\n",
    "            text = \" \".join(s.text.split())\n",
    "    assert count == 1\n",
    "    return text\n",
    "\n",
    "def get_att(list_button_text):\n",
    "    list_data = []\n",
    "    for i in range(len(list_button_text)):\n",
    "        text = list_button_text[i]\n",
    "\n",
    "        node_lv = text[0]\n",
    "        assert int(node_lv) in [1,2,3]\n",
    "        node_name = \"node\" + node_lv\n",
    "        pattern = rf\"{node_name}\\['(.*?)\\\";\"\n",
    "        list_att = []\n",
    "        for att in re.findall(pattern, text):\n",
    "            list_att.append(att.replace(\"']\",\"\").split(\" = \"))\n",
    "\n",
    "        data = {\"node_level\": node_lv}\n",
    "        data.update({att[0].strip(): \"\".join(att[1].split()) for att in list_att})\n",
    "        list_data.append(data)\n",
    "\n",
    "    df = pd.DataFrame(list_data)\n",
    "    for col in df.columns:\n",
    "        if col == \"node_level\": continue\n",
    "        assert df[col].str.startswith('\"').all()\n",
    "        df[col] = df[col].str[1:]\n",
    "\n",
    "    return df\n",
    "\n",
    "for report_id in tqdm(df[\"report_id\"]):\n",
    "    text = get_text_menu(report_id)\n",
    "    pattern =  r\"var node(.*?)cnt\\+\\+;\"\n",
    "    list_button_text = re.findall(pattern,text)\n",
    "\n",
    "    df_menu = get_att(list_button_text)\n",
    "    df_menu.to_csv(f\"Menu/{report_id}.csv\", index=False)"
   ]
  }
 ],
 "metadata": {
  "kernelspec": {
   "display_name": "Python 3",
   "language": "python",
   "name": "python3"
  },
  "language_info": {
   "codemirror_mode": {
    "name": "ipython",
    "version": 3
   },
   "file_extension": ".py",
   "mimetype": "text/x-python",
   "name": "python",
   "nbconvert_exporter": "python",
   "pygments_lexer": "ipython3",
   "version": "3.10.10"
  }
 },
 "nbformat": 4,
 "nbformat_minor": 2
}
