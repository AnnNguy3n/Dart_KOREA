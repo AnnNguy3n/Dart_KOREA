{
 "cells": [
  {
   "cell_type": "code",
   "execution_count": null,
   "metadata": {},
   "outputs": [],
   "source": [
    "import pandas as pd\n",
    "import re\n",
    "\n",
    "# Load data\n",
    "df = pd.read_csv(\"Metadata/metadata.csv\", dtype=str)\n",
    "info = pd.read_csv(\"Metadata/comInfo.csv\", dtype=str)\n",
    "info = info[info[\"종목코드\"].notna()].reset_index(drop=True)\n",
    "\n",
    "df.shape, info.shape"
   ]
  },
  {
   "cell_type": "code",
   "execution_count": null,
   "metadata": {},
   "outputs": [],
   "source": [
    "def get_time_end_cycle(report_name):\n",
    "    try:\n",
    "        # Create pattern for YYYY.MM\n",
    "        temp = re.findall(r\"\\d{4}\\.\\d{2}\", report_name)\n",
    "        assert len(temp) == 1\n",
    "        return temp[0]\n",
    "    except: return None\n",
    "\n",
    "# Get time_end_cycle, then filter out the rows with None\n",
    "df[\"time_end_cycle\"] = df[\"보고서명\"].apply(get_time_end_cycle)\n",
    "df = df[df[\"time_end_cycle\"].notna()].reset_index(drop=True)\n",
    "df[\"time_filled\"] = df[\"접수일자\"].str[:7]\n",
    "df.shape"
   ]
  },
  {
   "cell_type": "code",
   "execution_count": null,
   "metadata": {},
   "outputs": [],
   "source": [
    "# Map popup_id to company_code, then filter out the rows with None\n",
    "dict_popup_id_to_code = dict(zip(info[\"popup_id\"], info[\"종목코드\"]))\n",
    "df[\"company_code\"] = df[\"popup_href\"].map(dict_popup_id_to_code)\n",
    "df = df[df[\"company_code\"].notna()].reset_index(drop=True)\n",
    "df.shape"
   ]
  },
  {
   "cell_type": "code",
   "execution_count": null,
   "metadata": {},
   "outputs": [],
   "source": [
    "def get_time_info(date_filled):\n",
    "    year = int(date_filled[:4])\n",
    "    month = int(date_filled[5:7])\n",
    "    day = int(date_filled[8:])\n",
    "\n",
    "    if month < 4 or (month == 4 and day <= 10):\n",
    "        return year - 1\n",
    "    return year\n",
    "\n",
    "# Get time_info, if the month is before the 10th April, then the year is the previous year, else the year is the current year\n",
    "# time_invest is April of the year after time_info\n",
    "df[\"time_info\"] = df[\"접수일자\"].apply(get_time_info)\n",
    "df[\"time_invest\"] = df[\"time_info\"].apply(lambda x: str(x+1) + \".04\")\n",
    "df.head()"
   ]
  },
  {
   "cell_type": "code",
   "execution_count": null,
   "metadata": {},
   "outputs": [],
   "source": [
    "def get_month_diff(time_invest, time_end_cycle):\n",
    "    a, b = time_invest.split(\".\")\n",
    "    c, d = time_end_cycle.split(\".\")\n",
    "    return int(a) * 12 + int(b) - int(c) * 12 - int(d)\n",
    "\n",
    "# Get the month difference between time_invest and time_end_cycle, then filter out the rows with month_diff <= 0 and > 15\n",
    "df[\"month_diff\"] = df.apply(lambda x: get_month_diff(x[\"time_invest\"], x[\"time_end_cycle\"]), axis=1)\n",
    "df = df[(df[\"month_diff\"] > 0) & (df[\"month_diff\"] <= 15)].reset_index(drop=True)\n",
    "df.shape"
   ]
  },
  {
   "cell_type": "code",
   "execution_count": null,
   "metadata": {},
   "outputs": [],
   "source": [
    "# Filter out the rows with the date range\n",
    "start_date = \"2010.04.11\"\n",
    "end_date = \"2024.04.10\"\n",
    "\n",
    "df = df[(df[\"접수일자\"] >= start_date) & (df[\"접수일자\"] <= end_date)].reset_index(drop=True)\n",
    "df.shape"
   ]
  },
  {
   "cell_type": "code",
   "execution_count": null,
   "metadata": {},
   "outputs": [],
   "source": [
    "# Drop duplicates by company_code and time_info, keep the first\n",
    "df.drop_duplicates([\"company_code\", \"time_info\"], keep=\"first\", inplace=True, ignore_index=True)\n",
    "df.shape"
   ]
  },
  {
   "cell_type": "code",
   "execution_count": 8,
   "metadata": {},
   "outputs": [],
   "source": [
    "df.to_csv(\"Metadata/filtered_2010_2023.csv\", index=False)"
   ]
  }
 ],
 "metadata": {
  "kernelspec": {
   "display_name": "Python 3",
   "language": "python",
   "name": "python3"
  },
  "language_info": {
   "codemirror_mode": {
    "name": "ipython",
    "version": 3
   },
   "file_extension": ".py",
   "mimetype": "text/x-python",
   "name": "python",
   "nbconvert_exporter": "python",
   "pygments_lexer": "ipython3",
   "version": "3.10.10"
  }
 },
 "nbformat": 4,
 "nbformat_minor": 2
}
