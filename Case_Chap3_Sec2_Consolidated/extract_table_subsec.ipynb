{
 "cells": [
  {
   "cell_type": "code",
   "execution_count": null,
   "metadata": {},
   "outputs": [],
   "source": [
    "import pandas as pd\n",
    "from io import StringIO\n",
    "import re\n",
    "import os\n",
    "df = pd.read_csv(\"Case_Chap3_Sec2_Consolidated/temp.csv\")\n",
    "df.shape"
   ]
  },
  {
   "cell_type": "code",
   "execution_count": 2,
   "metadata": {},
   "outputs": [],
   "source": [
    "def get_dates(list_num):\n",
    "    dates = []\n",
    "    for i in range(len(list_num)):\n",
    "        try:\n",
    "            year, month, day = list_num[i:i+3]\n",
    "            assert 2000 <= year <= 2025\n",
    "            assert 1 <= month <= 12\n",
    "            assert 1 <= day <= 31\n",
    "            dates.append(f\"{year}.{month:02d}.{day:02d}\")\n",
    "        except: pass\n",
    "\n",
    "    return dates"
   ]
  },
  {
   "cell_type": "code",
   "execution_count": 3,
   "metadata": {},
   "outputs": [],
   "source": [
    "list_name = []\n",
    "for iii in range(len(df)):\n",
    "    path = df.iloc[iii][\"path\"]\n",
    "    lines = df.iloc[iii][\"lines\"].splitlines()\n",
    "    table = df.iloc[iii][\"table\"]\n",
    "    temp_df = pd.read_csv(StringIO(table))\n",
    "    if temp_df.shape[1]+2 != len(lines):\n",
    "        assert temp_df.shape[1]+1 == len(lines)\n",
    "        list_name.append(lines[0])\n",
    "        start_index = 1\n",
    "    else:\n",
    "        list_name.append(lines[1])\n",
    "        start_index = 2\n",
    "\n",
    "    if path.endswith(\"BS.html\"):\n",
    "        assert list_name[-1].endswith(\"재무상태표\")\n",
    "    elif path.endswith(\"CIC.html\"):\n",
    "        assert list_name[-1].endswith(\"포괄손익계산서\")\n",
    "    elif path.endswith(\"IC.html\"):\n",
    "        assert list_name[-1].endswith(\"손익계산서\")\n",
    "    else: raise\n",
    "\n",
    "    currency = re.findall(r\"\\(단위\\:(.*?)\\)\", lines[-1])\n",
    "    assert len(currency) == 1\n",
    "    currency = currency[0]\n",
    "\n",
    "    list_date = []\n",
    "    for line in lines[start_index:-1]:\n",
    "        list_num = [int(_) for _ in re.findall(r\"\\d+\", line)]\n",
    "        dates = get_dates(list_num)\n",
    "        if path.endswith(\"BS.html\"):\n",
    "            assert len(dates) == 1\n",
    "        elif path.endswith(\"IC.html\"):\n",
    "            assert len(dates) == 2\n",
    "        else: raise\n",
    "\n",
    "        if len(dates) == 1:\n",
    "            list_date.append(dates[0])\n",
    "        else:\n",
    "            list_date.append(\"~\".join(dates))\n",
    "\n",
    "    assert temp_df.columns[0] == \"Unnamed: 0\" and len(temp_df.columns) - 1 == len(list_date)\n",
    "    temp_df.columns = [\"Accounts\"] + list_date\n",
    "\n",
    "    new_path = path.replace(\"Html_subsec\", \"Raw_tables\").replace(\".html\", f\"_{currency}.csv\")\n",
    "    os.makedirs(os.path.dirname(new_path), exist_ok=True)\n",
    "    temp_df.to_csv(new_path, index=False)"
   ]
  }
 ],
 "metadata": {
  "kernelspec": {
   "display_name": "Python 3",
   "language": "python",
   "name": "python3"
  },
  "language_info": {
   "codemirror_mode": {
    "name": "ipython",
    "version": 3
   },
   "file_extension": ".py",
   "mimetype": "text/x-python",
   "name": "python",
   "nbconvert_exporter": "python",
   "pygments_lexer": "ipython3",
   "version": "3.10.10"
  }
 },
 "nbformat": 4,
 "nbformat_minor": 2
}
