{
 "cells": [
  {
   "cell_type": "code",
   "execution_count": null,
   "metadata": {},
   "outputs": [],
   "source": [
    "FOLDER_PATH = \"/Users/nguyenhuuan/Desktop/Dart_KOREA/FirstPage/Menu\"\n",
    "\n",
    "import pandas as pd\n",
    "import re\n",
    "import numpy as np\n",
    "import os\n",
    "from tqdm import tqdm\n",
    "\n",
    "def get_url(df):\n",
    "    rcpNo = df[\"rcpNo\"].iloc[0]\n",
    "    dcmNo = df[\"dcmNo\"].iloc[0]\n",
    "    eleId = df[\"eleId\"].iloc[0]\n",
    "    offset = df[\"offset\"].iloc[0]\n",
    "    length = df[\"length\"].iloc[0]\n",
    "    dtd = df[\"dtd\"].iloc[0]\n",
    "    return \"https://dart.fss.or.kr/\" + f\"/report/viewer.do?rcpNo={rcpNo}&dcmNo={dcmNo}&eleId={eleId}&offset={offset}&length={length}&dtd={dtd}\"\n",
    "\n",
    "df = pd.read_csv(\"/Users/nguyenhuuan/Desktop/Dart_KOREA/Metadata/filtered_2010_2023.csv\")\n",
    "df.shape"
   ]
  },
  {
   "cell_type": "code",
   "execution_count": null,
   "metadata": {},
   "outputs": [],
   "source": [
    "BS_cols = ['2-1.연결재무상태표', '연결재무상태표', '2-1.연결재무상태표(대차대조표)', '가.연결재무상태표',\n",
    "       '2-1.1연결재무상태표', '재무상태표', '-연결재무상태표', '가..연결재무상태표', '1)연결재무상태표']\n",
    "CIC_cols = ['2-2.연결포괄손익계산서', '2-3.연결포괄손익계산서', '연결포괄손익계산서', '2-2.연결포괄손익계산서(손익계산서)',\n",
    "       '나.연결포괄손익계산서', '포괄손익계산서', '2-2연결포괄손익계산서', '-연결포괄손익계산서', '2)연결포괄손익계산서']\n",
    "IC_cols = ['2-2.연결손익계산서', '2-2.연결손익계산']\n",
    "\n",
    "len(BS_cols), len(CIC_cols), len(IC_cols)"
   ]
  },
  {
   "cell_type": "code",
   "execution_count": null,
   "metadata": {},
   "outputs": [],
   "source": [
    "list_data = []\n",
    "for report_id in tqdm(df[\"report_id\"]):\n",
    "    df_menu = pd.read_csv(f\"{FOLDER_PATH}/{report_id}.csv\")\n",
    "    try:\n",
    "        chap3 = df_menu[(df_menu[\"node_level\"] == 1) & (df_menu[\"text\"] == \"III.재무에관한사항\")]\n",
    "        assert len(chap3) == 1\n",
    "\n",
    "        chap3_index = chap3.index[0]\n",
    "        chap4_index = df_menu[(df_menu[\"node_level\"] == 1) & (df_menu.index > chap3_index)].index[0]\n",
    "        chap3_elements = df_menu[df_menu.index.isin(range(chap3_index, chap4_index))]\n",
    "        assert len(chap3_elements) > 1\n",
    "\n",
    "        sec2 = df_menu[(df_menu[\"node_level\"] == 2) & (df_menu[\"text\"] == \"2.연결재무제표\")]\n",
    "        assert len(sec2) == 1 and chap3_index < sec2.index[0] and sec2.index[0] < chap4_index\n",
    "\n",
    "        sec3 = df_menu[(df_menu[\"node_level\"] == 2) & (df_menu[\"text\"] == \"3.연결재무제표주석\")]\n",
    "        assert len(sec3) == 1 and chap3_index < sec3.index[0] and sec3.index[0] < chap4_index \\\n",
    "            and sec2.index[0] < sec3.index[0]\n",
    "\n",
    "        sec2_elements = df_menu[df_menu.index.isin(range(sec2.index[0], sec3.index[0]))]\n",
    "        # assert len(sec2_elements) > 1\n",
    "        assert len(sec2_elements) == 1\n",
    "    except: continue\n",
    "\n",
    "    # assert (sec2_elements.iloc[1:][\"node_level\"] == 3).all()\n",
    "    data = {\"report_id\": report_id}\n",
    "    # for i in range(1, len(sec2_elements)):\n",
    "    #     text = sec2_elements.iloc[i][\"text\"]\n",
    "    #     # try: data[text] += 1\n",
    "    #     # except: data[text] = 1\n",
    "\n",
    "    #     if text in BS_cols:\n",
    "    #         name = \"BS\"\n",
    "    #     elif text in CIC_cols:\n",
    "    #         name = \"CIC\"\n",
    "    #     elif text in IC_cols:\n",
    "    #         name = \"IC\"\n",
    "    #     else: continue\n",
    "\n",
    "    #     assert name not in data.keys()\n",
    "    #     data[name] = get_url(sec2_elements.iloc[i:i+1])\n",
    "    data[\"url\"] = get_url(sec2_elements)\n",
    "\n",
    "    # assert \"BS\" in data.keys() and (\"CIC\" in data.keys() or \"IC\" in data.keys())\n",
    "    list_data.append(data)\n",
    "\n",
    "temp_df = pd.DataFrame(list_data)\n",
    "temp_df"
   ]
  },
  {
   "cell_type": "code",
   "execution_count": 4,
   "metadata": {},
   "outputs": [],
   "source": [
    "# temp_df.to_csv(\"df_consolidated_subsec.csv\", index=False)\n",
    "temp_df.to_csv(\"df_consolidated_sec2.csv\", index=False)"
   ]
  }
 ],
 "metadata": {
  "kernelspec": {
   "display_name": "Python 3",
   "language": "python",
   "name": "python3"
  },
  "language_info": {
   "codemirror_mode": {
    "name": "ipython",
    "version": 3
   },
   "file_extension": ".py",
   "mimetype": "text/x-python",
   "name": "python",
   "nbconvert_exporter": "python",
   "pygments_lexer": "ipython3",
   "version": "3.10.10"
  }
 },
 "nbformat": 4,
 "nbformat_minor": 2
}
